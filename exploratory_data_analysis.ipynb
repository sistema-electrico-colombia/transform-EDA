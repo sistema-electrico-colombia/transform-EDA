{
 "cells": [
  {
   "cell_type": "markdown",
   "metadata": {},
   "source": [
    "# **Analisis Exploratorio de Datos**\n",
    "\n",
    "\n",
    "Los objetivos del presente proyecto de analisis de datos son:\n",
    "\n",
    "1. Comprender el comportamiento general de las emisiones de gases contaminantes del sistema interconectado nacional.\n",
    "2. Determinar la correlacion de la cantidad de emisiones a otras variables del sistema de generación eléctrica.\n",
    "3. Comprender la influencia de los fenomenos climáticos en las emisiones del SIN.\n",
    "4. Encontrar la influencia del consumo de combustible en el precio de la eléctricidad."
   ]
  },
  {
   "cell_type": "markdown",
   "metadata": {},
   "source": []
  }
 ],
 "metadata": {
  "language_info": {
   "name": "python"
  }
 },
 "nbformat": 4,
 "nbformat_minor": 2
}
